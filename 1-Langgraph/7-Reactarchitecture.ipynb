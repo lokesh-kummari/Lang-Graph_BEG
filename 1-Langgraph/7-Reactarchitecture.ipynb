{
 "cells": [
  {
   "cell_type": "markdown",
   "metadata": {},
   "source": [
    "### ReAct Agent Architecture\n",
    "\n",
    "#### Aim\n",
    "This is the intuition behind ReAct, a general agent architecture.\n",
    "\n",
    "1. act - let the model call specific tools\n",
    "2. observe - pass the tool output back to the model\n",
    "3. reason - let the model reason about the tool output to decide what to do next (e.g., call another tool or just respond directly)\n",
    "\n"
   ]
  },
  {
   "cell_type": "code",
   "execution_count": 1,
   "metadata": {},
   "outputs": [],
   "source": [
    "from langchain_community.tools import ArxivQueryRun,WikipediaQueryRun\n",
    "from langchain_community.utilities import WikipediaAPIWrapper,ArxivAPIWrapper"
   ]
  },
  {
   "cell_type": "code",
   "execution_count": 2,
   "metadata": {},
   "outputs": [
    {
     "name": "stdout",
     "output_type": "stream",
     "text": [
      "arxiv\n"
     ]
    }
   ],
   "source": [
    "api_wrapper_arxiv=ArxivAPIWrapper(top_k_results=2,doc_content_chars_max=500)\n",
    "arxiv=ArxivQueryRun(api_wrapper=api_wrapper_arxiv)\n",
    "print(arxiv.name)"
   ]
  },
  {
   "cell_type": "code",
   "execution_count": 3,
   "metadata": {},
   "outputs": [
    {
     "data": {
      "text/plain": [
       "\"Published: 2024-07-22\\nTitle: Attention Is All You Need But You Don't Need All Of It For Inference of Large Language Models\\nAuthors: Georgy Tyukin, Gbetondji J-S Dovonon, Jean Kaddour, Pasquale Minervini\\nSummary: The inference demand for LLMs has skyrocketed in recent months, and serving\\nmodels with low latencies remains challenging due to the quadratic input length\\ncomplexity of the attention layers. In this work, we investigate the effect of\\ndropping MLP and attention layers at inference time o\""
      ]
     },
     "execution_count": 3,
     "metadata": {},
     "output_type": "execute_result"
    }
   ],
   "source": [
    "arxiv.invoke(\"Attention iss all you need\")"
   ]
  },
  {
   "cell_type": "code",
   "execution_count": 4,
   "metadata": {},
   "outputs": [
    {
     "data": {
      "text/plain": [
       "'wikipedia'"
      ]
     },
     "execution_count": 4,
     "metadata": {},
     "output_type": "execute_result"
    }
   ],
   "source": [
    "api_wrapper_wiki=WikipediaAPIWrapper(top_k_results=1,doc_content_chars_max=500)\n",
    "wiki=WikipediaQueryRun(api_wrapper=api_wrapper_wiki)\n",
    "wiki.name"
   ]
  },
  {
   "cell_type": "code",
   "execution_count": 5,
   "metadata": {},
   "outputs": [
    {
     "data": {
      "text/plain": [
       "'Page: Machine learning\\nSummary: Machine learning (ML) is a field of study in artificial intelligence concerned with the development and study of statistical algorithms that can learn from data and generalise to unseen data, and thus perform tasks without explicit instructions. Within a subdiscipline in machine learning, advances in the field of deep learning have allowed neural networks, a class of statistical algorithms, to surpass many previous machine learning approaches in performance.\\nML fi'"
      ]
     },
     "execution_count": 5,
     "metadata": {},
     "output_type": "execute_result"
    }
   ],
   "source": [
    "wiki.invoke(\"What is machine learning\")"
   ]
  },
  {
   "cell_type": "code",
   "execution_count": 7,
   "metadata": {},
   "outputs": [],
   "source": [
    "from dotenv import load_dotenv\n",
    "load_dotenv()\n",
    "\n",
    "import os\n",
    "\n",
    "os.environ[\"TAVILY_API_KEY\"]=os.getenv(\"TAVILY_API_KEY\")\n",
    "os.environ[\"GROQ_API_KEY\"]=os.getenv(\"GROQ_API_KEY\")\n",
    "os.environ[\"LANGCHAIN_API_KEY\"]=os.getenv(\"LANGCHAIN_API_KEY\")\n",
    "os.environ[\"LANGCHAIN_TRACKING_V2\"]=\"True\"\n",
    "os.environ[\"LANGCHAIN_PROJECT\"]=\"ReAct-agent\""
   ]
  },
  {
   "cell_type": "code",
   "execution_count": 9,
   "metadata": {},
   "outputs": [],
   "source": [
    "def multiply(a:int,b:int)->int:\n",
    "    \"\"\"Multiply a and b\n",
    "\n",
    "    Args:\n",
    "        a (int): a is number\n",
    "        b (int): b is number\n",
    "\n",
    "    Returns:\n",
    "        int: a number\n",
    "    \"\"\"\n",
    "    return a*b\n",
    "\n",
    "def add(a:int,b:int)->int:\n",
    "    \"\"\"Add two numbers\n",
    "\n",
    "    Args:\n",
    "        a (int): a is number\n",
    "        b (int): b is number\n",
    "\n",
    "    Returns:\n",
    "        int: a number\n",
    "    \"\"\"\n",
    "    return a+b\n",
    "\n",
    "def divide(a:int,b:int)->float:\n",
    "    \"\"\"divide two numbers\n",
    "\n",
    "    Args:\n",
    "        a (int): a is number\n",
    "        b (int): b is number\n",
    "\n",
    "    Returns:\n",
    "        float: a float number\n",
    "    \"\"\"\n",
    "    \n",
    "    return a/b"
   ]
  },
  {
   "cell_type": "code",
   "execution_count": 10,
   "metadata": {},
   "outputs": [],
   "source": [
    "tools=[arxiv,wiki,add,multiply,divide]"
   ]
  },
  {
   "cell_type": "code",
   "execution_count": 11,
   "metadata": {},
   "outputs": [],
   "source": [
    "### Tavily Search Tool\n",
    "from langchain_community.tools.tavily_search import TavilySearchResults\n",
    "\n",
    "tavily = TavilySearchResults()"
   ]
  },
  {
   "cell_type": "code",
   "execution_count": 12,
   "metadata": {},
   "outputs": [
    {
     "data": {
      "text/plain": [
       "[{'title': 'Air India Plane Crash 2025: Full Timeline, Cause & Impact',\n",
       "  'url': 'https://www.iasexpress.net/air-india-plane-crash-2025/',\n",
       "  'content': \"The Air India Flight AI-171 crash on June 12, 2025, stands as one of the deadliest aviation tragedies in India's history. Shortly after takeoff from Ahmedabad en route to London, the Boeing 787 Dreamliner plummeted into a residential and institutional area, killing 265 people, including almost everyone on board and several on the ground. The aircraft erupted into flames upon impact\",\n",
       "  'score': 0.80771893},\n",
       " {'title': \"India's Worst Air Accidents: A Timeline of Major Aviation Disasters\",\n",
       "  'url': 'https://www.deshabhimani.com/deshabhimani-english-/national-76192/india-air-crash-history-major-aviation-disasters-26299',\n",
       "  'content': \"Over the decades, the country has witnessed several aviation tragedies—from runway overruns in heavy rain to mid-air collisions—resulting in heavy loss of lives and triggering changes in safety protocols. Here is a look at some of the worst air disasters that have occurred in India's aviation history: Air India Express Flight 1344 (2020)\",\n",
       "  'score': 0.71377134},\n",
       " {'title': 'List of accidents and incidents involving airliners in India',\n",
       "  'url': 'https://en.wikipedia.org/wiki/List_of_accidents_and_incidents_involving_airliners_in_India',\n",
       "  'content': '| June 12, 2025 | Air India Flight 171, a Boeing 787-8 Dreamliner en route to Gatwick, London carrying 230 passengers and 12 crew members, crashed in a building in a suburb of Ahmedabad less than a minute after takeoff from Ahmedabad Airport. The crash killed 241 people on board and 34 people on the ground; with a passenger on board as the only survivor. The exact cause is expected to be determined following the investigation. | 241+34 | 1 | [...] | August 7, 2020 | Air India Express Flight 1344, a Boeing 737-800 flying the Dubai-Kozhikode route overshot the runway on landing at Calicut International Airport breaking into four pieces. | 18 | 172 |\\n| May 22, 2010 | Air India Express Flight 812, a Boeing 737-800 flying the Dubai-Mangalore route overshot Runway 24 on landing at Mangalore International Airport killing 158 passengers on board. | 158 | 8 |',\n",
       "  'score': 0.65676886},\n",
       " {'title': \"Aviation Tragedies: Revisiting India's Deadliest Air Disasters\",\n",
       "  'url': 'https://www.devdiscourse.com/article/business/3456544-aviation-tragedies-revisiting-indias-deadliest-air-disasters',\n",
       "  'content': \"India's aviation history is marked by multiple tragedies, from the mid-air Charkhi Dadri collision to runway overshoots at tabletop airports. These grim incidents have led to significant changes in safety protocols and airport procedures, aiming to prevent future catastrophes and improve overall aviation safety.\",\n",
       "  'score': 0.60861784},\n",
       " {'title': \"India's Deadliest Aviation Disasters: A Look Back\",\n",
       "  'url': 'https://www.deccanchronicle.com/nation/indias-deadliest-aviation-disasters-a-look-back-1884835',\n",
       "  'content': \"After a London-bound Air India aircraft crashed shortly after taking off from the Ahmedabad airport on Thursday, the spotlight is back on India's history with aviation disasters.From deadly mid-air collisions and fatal crashes due to poor weather conditions to runway overshoots at tabletop airports, the country has witnessed several tragedies over the decades.\\n\\nPTI\\n\\n### Latest News\",\n",
       "  'score': 0.6002124}]"
      ]
     },
     "execution_count": 12,
     "metadata": {},
     "output_type": "execute_result"
    }
   ],
   "source": [
    "tavily.invoke(\"Provide me the recent flight tradegy that happened in india\")"
   ]
  },
  {
   "cell_type": "code",
   "execution_count": 13,
   "metadata": {},
   "outputs": [],
   "source": [
    "### Combine all the tools in the list\n",
    "\n",
    "tools=[arxiv,wiki,tavily,add,divide,multiply]"
   ]
  },
  {
   "cell_type": "code",
   "execution_count": 14,
   "metadata": {},
   "outputs": [],
   "source": [
    "## Initialize my LLM model\n",
    "\n",
    "from langchain_groq import ChatGroq\n",
    "\n",
    "llm=ChatGroq(model=\"qwen-qwq-32b\")\n",
    "\n",
    "llm_with_tools=llm.bind_tools(tools)"
   ]
  },
  {
   "cell_type": "code",
   "execution_count": 15,
   "metadata": {},
   "outputs": [
    {
     "data": {
      "text/plain": [
       "AIMessage(content='', additional_kwargs={'tool_calls': [{'id': 'mf13w9f8b', 'function': {'arguments': '{\"query\":\"recent AI news\"}', 'name': 'tavily_search_results_json'}, 'type': 'function'}]}, response_metadata={'token_usage': {'completion_tokens': 208, 'prompt_tokens': 484, 'total_tokens': 692, 'completion_time': 0.504214341, 'prompt_time': 0.028576999, 'queue_time': 0.26103228, 'total_time': 0.53279134}, 'model_name': 'qwen-qwq-32b', 'system_fingerprint': 'fp_1e88ca32eb', 'finish_reason': 'tool_calls', 'logprobs': None}, id='run--82a23b6f-9420-4c79-9482-5ed8ab772a5e-0', tool_calls=[{'name': 'tavily_search_results_json', 'args': {'query': 'recent AI news'}, 'id': 'mf13w9f8b', 'type': 'tool_call'}], usage_metadata={'input_tokens': 484, 'output_tokens': 208, 'total_tokens': 692})"
      ]
     },
     "execution_count": 15,
     "metadata": {},
     "output_type": "execute_result"
    }
   ],
   "source": [
    "from pprint import pprint\n",
    "from langchain_core.messages import AIMessage, HumanMessage\n",
    "llm_with_tools.invoke([HumanMessage(content=f\"What is the recent AI News\")])"
   ]
  },
  {
   "cell_type": "code",
   "execution_count": 16,
   "metadata": {},
   "outputs": [
    {
     "data": {
      "text/plain": [
       "[{'name': 'tavily_search_results_json',\n",
       "  'args': {'query': 'recent AI news'},\n",
       "  'id': 'ffc14yfrw',\n",
       "  'type': 'tool_call'}]"
      ]
     },
     "execution_count": 16,
     "metadata": {},
     "output_type": "execute_result"
    }
   ],
   "source": [
    "llm_with_tools.invoke([HumanMessage(content=f\"What is the recent AI News\")]).tool_calls"
   ]
  },
  {
   "cell_type": "code",
   "execution_count": 17,
   "metadata": {},
   "outputs": [],
   "source": [
    "## State Schema\n",
    "from typing_extensions import TypedDict\n",
    "from langchain_core.messages import AnyMessage\n",
    "from typing import Annotated\n",
    "from langgraph.graph.message import add_messages\n",
    "class State(TypedDict):\n",
    "    messages:Annotated[list[AnyMessage],add_messages]"
   ]
  },
  {
   "cell_type": "code",
   "execution_count": 18,
   "metadata": {},
   "outputs": [
    {
     "data": {
      "image/png": "[encoded data removed]",
      "text/plain": [
       "<IPython.core.display.Image object>"
      ]
     },
     "metadata": {},
     "output_type": "display_data"
    }
   ],
   "source": [
    "### Entire Chatbot With LangGraph\n",
    "from IPython.display import Image, display\n",
    "from langgraph.graph import StateGraph, START, END\n",
    "from langgraph.prebuilt import ToolNode\n",
    "from langgraph.prebuilt import tools_condition\n",
    "\n",
    "### Node definition\n",
    "def tool_calling_llm(state:State):\n",
    "    return {\"messages\":[llm_with_tools.invoke(state[\"messages\"])]}\n",
    "\n",
    "# Build graph\n",
    "builder = StateGraph(State)\n",
    "builder.add_node(\"tool_calling_llm\", tool_calling_llm)\n",
    "builder.add_node(\"tools\", ToolNode(tools))\n",
    "\n",
    "builder.add_edge(START, \"tool_calling_llm\")\n",
    "builder.add_conditional_edges(\n",
    "    \"tool_calling_llm\",\n",
    "    # If the latest message (result) from assistant is a tool call -> tools_condition routes to tools\n",
    "    # If the latest message (result) from assistant is a not a tool call -> tools_condition routes to END\n",
    "    tools_condition,\n",
    ")\n",
    "builder.add_edge(\"tools\",\"tool_calling_llm\")\n",
    "\n",
    "\n",
    "graph = builder.compile()\n",
    "\n",
    "# View\n",
    "display(Image(graph.get_graph().draw_mermaid_png()))\n"
   ]
  },
  {
   "cell_type": "code",
   "execution_count": 20,
   "metadata": {},
   "outputs": [
    {
     "name": "stdout",
     "output_type": "stream",
     "text": [
      "================================\u001b[1m Human Message \u001b[0m=================================\n",
      "\n",
      "Provide me the recent flight tradegy in india,add 5 plus 5 and then multiply by 10\n",
      "==================================\u001b[1m Ai Message \u001b[0m==================================\n",
      "Tool Calls:\n",
      "  tavily_search_results_json (3kj8g881k)\n",
      " Call ID: 3kj8g881k\n",
      "  Args:\n",
      "    query: recent flight tragedy in india\n",
      "  add (xwgy76f82)\n",
      " Call ID: xwgy76f82\n",
      "  Args:\n",
      "    a: 5\n",
      "    b: 5\n",
      "  multiply (ceae5bh0c)\n",
      " Call ID: ceae5bh0c\n",
      "  Args:\n",
      "    a: 10\n",
      "    b: 10\n",
      "=================================\u001b[1m Tool Message \u001b[0m=================================\n",
      "Name: tavily_search_results_json\n",
      "\n",
      "[{\"title\": \"List of accidents and incidents involving airliners in India\", \"url\": \"https://en.wikipedia.org/wiki/List_of_accidents_and_incidents_involving_airliners_in_India\", \"content\": \"| June 12, 2025 | Air India Flight 171, a Boeing 787-8 Dreamliner en route to Gatwick, London carrying 230 passengers and 12 crew members, crashed in a building in a suburb of Ahmedabad less than a minute after takeoff from Ahmedabad Airport. The crash killed 241 people on board and 34 people on the ground; with a passenger on board as the only survivor. The exact cause is expected to be determined following the investigation. | 241+34 | 1 | [...] | August 7, 2020 | Air India Express Flight 1344, a Boeing 737-800 flying the Dubai-Kozhikode route overshot the runway on landing at Calicut International Airport breaking into four pieces. | 18 | 172 |\\n| May 22, 2010 | Air India Express Flight 812, a Boeing 737-800 flying the Dubai-Mangalore route overshot Runway 24 on landing at Mangalore International Airport killing 158 passengers on board. | 158 | 8 |\", \"score\": 0.81979275}, {\"title\": \"Ahmedabad Air India Plane Crash Live: DNA samples of 119 Air India ...\", \"url\": \"https://timesofindia.indiatimes.com/india/air-india-ai-171-plane-crash-live-updates-ahmedabad-london-air-india-flight-tragedy-242-passengers-international-airport-pm-modi/liveblog/121857714.cms\", \"content\": \"The death toll from the tragic Air India Flight AI171 crash in Ahmedabad on Thursday, June 12, 2025, has climbed to 279, making it one of the century's worst aviation disasters.\", \"score\": 0.81524754}, {\"title\": \"Air India Plane Crash: Sole Survivor 'Jumped Out of ... - Newsweek\", \"url\": \"https://www.newsweek.com/air-india-plane-crash-ahmedebad-london-live-updates-2084427\", \"content\": \"An Air India crash in Ahmedabad, India, on June 12 has added a tragic chapter to aviation history. The flight, en route to the United Kingdom, was departing from Sardar Vallabhbhai Patel International Airport when it crashed during takeoff.\\n\\nAir India confirmed that the flight was involved in \\\"an accident today after take-off,\\\" adding that 242 passengers and crew members were on board. [...] In August 2020, an Air India Express Boeing 737 overshot a hilltop runway in Kozhikode, a city in southern India, crashing into a gorge and breaking apart. The accident claimed the lives of 21 people and injured scores more, drawing renewed scrutiny to aviation safety in the country. [...] Air India confirms crash killed 229 passengers and 12 crew aboard Flight AI171.\\n\\nThe flight, from the Indian city of Ahmedabad to Gatwick, London on Thursday, was carrying 242 people.\\n\\nHowever, there was a sole survivor, British national passenger Vishwash Kumar Ramesh.\\n\\n### World leader share condolences in wake of aviation tragedy\\n\\nWorld leaders around the globe shared their condolences in the wake of the deadly Air India crash on Thursday.\", \"score\": 0.79484755}, {\"title\": \"At least 290 killed in Air India crash - CNN\", \"url\": \"https://www.cnn.com/world/live-news/ahmedabad-india-plane-crash-06-12-25\", \"content\": \"Rescue officials work at the site where Air India flight 171 crashed in a residential area near the airport in Ahmedabad today.\\n\\nAt least 290 people have died after an Air India plane crashed shortly after take off from Ahmedabad airport in India on Thursday, a senior doctor at the Ahmedabad Civil Hospital, where a majority of the dead and injured people were taken, told CNN. [...] Aircraft landing gear at the crash site of Air India flight AI171 in Ahmedabad, on Thursday.\\n\\nAn Air India flight en route to London carrying 242 passengers and crew crashed shortly after taking off from the western city of Ahmedabad in India’s Guajarat state earlier today.\\n\\nHere’s what we know so far about the crash: [...] Air India has confirmed that of the 242 people on board its plane that crashed in Ahmedabad, India, all but one died. The sole survivor is a British national of Indian origin, it said.\\n\\n“We regret to inform that, of the 242 aboard, there are 241 confirmed fatalities. The sole survivor is being treated in a hospital,” Air India said in a statement.\\n\\nThe flight was carrying 230 passengers and 12 crew members.\", \"score\": 0.7935067}, {\"title\": \"Air India crash: Death toll climbs to 270 | AP News\", \"url\": \"https://apnews.com/article/air-india-plane-crash-ahmedabad-survivor-boeing-4bb6243d0240956538ddcd253d92f5ce\", \"content\": \"AHMEDABAD, India (AP) — Search and recovery teams continued scouring the site of one of India's worst aviation disasters for a third day after the Air India flight fell from the sky and killed at least 270 people in Gujarat state, officials said Saturday.\", \"score\": 0.77650476}]\n",
      "=================================\u001b[1m Tool Message \u001b[0m=================================\n",
      "Name: add\n",
      "\n",
      "10\n",
      "=================================\u001b[1m Tool Message \u001b[0m=================================\n",
      "Name: multiply\n",
      "\n",
      "100\n",
      "==================================\u001b[1m Ai Message \u001b[0m==================================\n",
      "\n",
      "**Recent Flight Tragedy in India:**  \n",
      "The most recent major aviation disaster in India occurred on **June 12, 2025**, involving **Air India Flight AI171**. The Boeing 787-8 Dreamliner crashed shortly after takeoff from Ahmedabad Airport, killing **241 passengers/crew** and **34 people on the ground**, with one sole survivor. The flight was en route to London Gatwick. The cause is still under investigation (sources: [Tavily](https://www.newsweek.com/...), [CNN](https://www.cnn.com/...)).  \n",
      "\n",
      "**Math Calculation:**  \n",
      "1. **5 + 5 = 10**  \n",
      "2. **10 × 10 = 100**  \n",
      "\n",
      "Let me know if you need further details!\n"
     ]
    }
   ],
   "source": [
    "messages=graph.invoke({\"messages\":HumanMessage(content=\"Provide me the recent flight tradegy in india,add 5 plus 5 and then multiply by 10\")})\n",
    "for m in messages['messages']:\n",
    "    m.pretty_print()"
   ]
  },
  {
   "cell_type": "code",
   "execution_count": 21,
   "metadata": {},
   "outputs": [
    {
     "name": "stdout",
     "output_type": "stream",
     "text": [
      "================================\u001b[1m Human Message \u001b[0m=================================\n",
      "\n",
      "What is machine learning\n",
      "==================================\u001b[1m Ai Message \u001b[0m==================================\n",
      "Tool Calls:\n",
      "  wikipedia (g3f5j6bkf)\n",
      " Call ID: g3f5j6bkf\n",
      "  Args:\n",
      "    query: Machine learning\n",
      "=================================\u001b[1m Tool Message \u001b[0m=================================\n",
      "Name: wikipedia\n",
      "\n",
      "Page: Machine learning\n",
      "Summary: Machine learning (ML) is a field of study in artificial intelligence concerned with the development and study of statistical algorithms that can learn from data and generalise to unseen data, and thus perform tasks without explicit instructions. Within a subdiscipline in machine learning, advances in the field of deep learning have allowed neural networks, a class of statistical algorithms, to surpass many previous machine learning approaches in performance.\n",
      "ML fi\n",
      "==================================\u001b[1m Ai Message \u001b[0m==================================\n",
      "\n",
      "Machine learning (ML) is a branch of artificial intelligence (AI) focused on developing algorithms and statistical models that enable computers to perform tasks without explicit step-by-step instructions. Instead, these systems learn patterns from data, improving their performance over time through experience. Key aspects include:\n",
      "\n",
      "1. **Data-Driven**: ML models analyze input data to identify patterns and make predictions or decisions.\n",
      "2. **Generalization**: The goal is to perform well on unseen data, not just memorize training examples.\n",
      "3. **Applications**: Common uses include image recognition, natural language processing, recommendation systems, and predictive analytics.\n",
      "\n",
      "A key subfield, **deep learning**, leverages neural networks with multiple layers (hence \"deep\") to achieve state-of-the-art results in complex tasks like image and speech recognition. This approach has revolutionized areas such as autonomous vehicles and healthcare diagnostics.\n",
      "\n",
      "In essence, machine learning empowers systems to \"learn\" from data, enabling them to adapt and solve problems autonomously.\n"
     ]
    }
   ],
   "source": [
    "messages=graph.invoke({\"messages\":HumanMessage(content=\"What is machine learning\")})\n",
    "for m in messages['messages']:\n",
    "    m.pretty_print()"
   ]
  },
  {
   "cell_type": "markdown",
   "metadata": {},
   "source": []
  }
 ],
 "metadata": {
  "kernelspec": {
   "display_name": "Python 3",
   "language": "python",
   "name": "python3"
  },
  "language_info": {
   "codemirror_mode": {
    "name": "ipython",
    "version": 3
   },
   "file_extension": ".py",
   "mimetype": "text/x-python",
   "name": "python",
   "nbconvert_exporter": "python",
   "pygments_lexer": "ipython3",
   "version": "3.12.0"
  }
 },
 "nbformat": 4,
 "nbformat_minor": 2
}
